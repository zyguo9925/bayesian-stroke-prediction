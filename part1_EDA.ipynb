{
 "cells": [
  {
   "cell_type": "markdown",
   "id": "4533de83-6938-4fb5-8fae-14222d532ae5",
   "metadata": {},
   "source": [
    "# Data preparation"
   ]
  },
  {
   "cell_type": "code",
   "execution_count": 1,
   "id": "8e4e2fa8-033b-4590-ae16-f404678dd7ca",
   "metadata": {},
   "outputs": [
    {
     "name": "stderr",
     "output_type": "stream",
     "text": [
      "/opt/anaconda3/lib/python3.9/site-packages/pandas/core/computation/expressions.py:21: UserWarning: Pandas requires version '2.8.4' or newer of 'numexpr' (version '2.7.3' currently installed).\n",
      "  from pandas.core.computation.check import NUMEXPR_INSTALLED\n",
      "/opt/anaconda3/lib/python3.9/site-packages/pandas/core/arrays/masked.py:60: UserWarning: Pandas requires version '1.3.6' or newer of 'bottleneck' (version '1.3.2' currently installed).\n",
      "  from pandas.core import (\n"
     ]
    },
    {
     "name": "stdout",
     "output_type": "stream",
     "text": [
      "Warning: Looks like you're using an outdated `kagglehub` version (installed: 0.3.8), please consider upgrading to the latest version (0.3.12).\n"
     ]
    }
   ],
   "source": [
    "import pandas as pd\n",
    "import os\n",
    "import kagglehub\n",
    "\n",
    "\n",
    "# downloading\n",
    "path = kagglehub.dataset_download(\"fedesoriano/stroke-prediction-dataset\")\n",
    "# follow path\n",
    "csv_file = os.path.join(path, \"healthcare-dataset-stroke-data.csv\")\n",
    "df = pd.read_csv(csv_file)\n",
    "df = df.dropna()\n",
    "df.reset_index(drop=True, inplace=True)"
   ]
  },
  {
   "cell_type": "code",
   "execution_count": 2,
   "id": "5c1421e3-0dd4-4c58-8126-b89f9b4b63b1",
   "metadata": {},
   "outputs": [
    {
     "data": {
      "text/html": [
       "<div>\n",
       "<style scoped>\n",
       "    .dataframe tbody tr th:only-of-type {\n",
       "        vertical-align: middle;\n",
       "    }\n",
       "\n",
       "    .dataframe tbody tr th {\n",
       "        vertical-align: top;\n",
       "    }\n",
       "\n",
       "    .dataframe thead th {\n",
       "        text-align: right;\n",
       "    }\n",
       "</style>\n",
       "<table border=\"1\" class=\"dataframe\">\n",
       "  <thead>\n",
       "    <tr style=\"text-align: right;\">\n",
       "      <th></th>\n",
       "      <th>id</th>\n",
       "      <th>gender</th>\n",
       "      <th>age</th>\n",
       "      <th>hypertension</th>\n",
       "      <th>heart_disease</th>\n",
       "      <th>ever_married</th>\n",
       "      <th>work_type</th>\n",
       "      <th>Residence_type</th>\n",
       "      <th>avg_glucose_level</th>\n",
       "      <th>bmi</th>\n",
       "      <th>smoking_status</th>\n",
       "      <th>stroke</th>\n",
       "    </tr>\n",
       "  </thead>\n",
       "  <tbody>\n",
       "    <tr>\n",
       "      <th>0</th>\n",
       "      <td>9046</td>\n",
       "      <td>Male</td>\n",
       "      <td>67.0</td>\n",
       "      <td>0</td>\n",
       "      <td>1</td>\n",
       "      <td>Yes</td>\n",
       "      <td>Private</td>\n",
       "      <td>Urban</td>\n",
       "      <td>228.69</td>\n",
       "      <td>36.6</td>\n",
       "      <td>formerly smoked</td>\n",
       "      <td>1</td>\n",
       "    </tr>\n",
       "    <tr>\n",
       "      <th>1</th>\n",
       "      <td>31112</td>\n",
       "      <td>Male</td>\n",
       "      <td>80.0</td>\n",
       "      <td>0</td>\n",
       "      <td>1</td>\n",
       "      <td>Yes</td>\n",
       "      <td>Private</td>\n",
       "      <td>Rural</td>\n",
       "      <td>105.92</td>\n",
       "      <td>32.5</td>\n",
       "      <td>never smoked</td>\n",
       "      <td>1</td>\n",
       "    </tr>\n",
       "    <tr>\n",
       "      <th>2</th>\n",
       "      <td>60182</td>\n",
       "      <td>Female</td>\n",
       "      <td>49.0</td>\n",
       "      <td>0</td>\n",
       "      <td>0</td>\n",
       "      <td>Yes</td>\n",
       "      <td>Private</td>\n",
       "      <td>Urban</td>\n",
       "      <td>171.23</td>\n",
       "      <td>34.4</td>\n",
       "      <td>smokes</td>\n",
       "      <td>1</td>\n",
       "    </tr>\n",
       "    <tr>\n",
       "      <th>3</th>\n",
       "      <td>1665</td>\n",
       "      <td>Female</td>\n",
       "      <td>79.0</td>\n",
       "      <td>1</td>\n",
       "      <td>0</td>\n",
       "      <td>Yes</td>\n",
       "      <td>Self-employed</td>\n",
       "      <td>Rural</td>\n",
       "      <td>174.12</td>\n",
       "      <td>24.0</td>\n",
       "      <td>never smoked</td>\n",
       "      <td>1</td>\n",
       "    </tr>\n",
       "    <tr>\n",
       "      <th>4</th>\n",
       "      <td>56669</td>\n",
       "      <td>Male</td>\n",
       "      <td>81.0</td>\n",
       "      <td>0</td>\n",
       "      <td>0</td>\n",
       "      <td>Yes</td>\n",
       "      <td>Private</td>\n",
       "      <td>Urban</td>\n",
       "      <td>186.21</td>\n",
       "      <td>29.0</td>\n",
       "      <td>formerly smoked</td>\n",
       "      <td>1</td>\n",
       "    </tr>\n",
       "  </tbody>\n",
       "</table>\n",
       "</div>"
      ],
      "text/plain": [
       "      id  gender   age  hypertension  heart_disease ever_married  \\\n",
       "0   9046    Male  67.0             0              1          Yes   \n",
       "1  31112    Male  80.0             0              1          Yes   \n",
       "2  60182  Female  49.0             0              0          Yes   \n",
       "3   1665  Female  79.0             1              0          Yes   \n",
       "4  56669    Male  81.0             0              0          Yes   \n",
       "\n",
       "       work_type Residence_type  avg_glucose_level   bmi   smoking_status  \\\n",
       "0        Private          Urban             228.69  36.6  formerly smoked   \n",
       "1        Private          Rural             105.92  32.5     never smoked   \n",
       "2        Private          Urban             171.23  34.4           smokes   \n",
       "3  Self-employed          Rural             174.12  24.0     never smoked   \n",
       "4        Private          Urban             186.21  29.0  formerly smoked   \n",
       "\n",
       "   stroke  \n",
       "0       1  \n",
       "1       1  \n",
       "2       1  \n",
       "3       1  \n",
       "4       1  "
      ]
     },
     "execution_count": 2,
     "metadata": {},
     "output_type": "execute_result"
    }
   ],
   "source": [
    "df.head(5)"
   ]
  },
  {
   "cell_type": "markdown",
   "id": "f93a0081-dd32-43a6-879f-8eac2ab9a71a",
   "metadata": {},
   "source": [
    "## Attribute Information\n",
    "#### 1) id: unique identifier\n",
    "#### 2) gender: \"Male\", \"Female\" or \"Other\"\n",
    "#### 3) age: age of the patient\n",
    "#### 4) hypertension: 0 if the patient doesn't have hypertension, 1 if the patient has hypertension\n",
    "#### 5) heart_disease: 0 if the patient doesn't have any heart diseases, 1 if the patient has a heart disease\n",
    "#### 6) ever_married: \"No\" or \"Yes\"\n",
    "#### 7) work_type: \"children\", \"Govt_jov\", \"Never_worked\", \"Private\" or \"Self-employed\"\n",
    "#### 8) Residence_type: \"Rural\" or \"Urban\"\n",
    "#### 9) avg_glucose_level: average glucose level in blood\n",
    "#### 10) bmi: body mass index\n",
    "#### 11) smoking_status: \"formerly smoked\", \"never smoked\", \"smokes\" or \"Unknown\"*\n",
    "#### 12) stroke: 1 if the patient had a stroke or 0 if not"
   ]
  },
  {
   "cell_type": "markdown",
   "id": "a4735a75-2b0c-4bdb-bbda-9cad5bc4955f",
   "metadata": {},
   "source": [
    "## Data Exploratory"
   ]
  },
  {
   "cell_type": "markdown",
   "id": "2b0970d2-2f18-41cf-a57b-cfe819e8a0a0",
   "metadata": {},
   "source": [
    "### explore potential relationships between the target variable and the other variables"
   ]
  },
  {
   "cell_type": "code",
   "execution_count": 3,
   "id": "dc6aab62-407a-470e-a823-9d4b948b9546",
   "metadata": {},
   "outputs": [
    {
     "data": {
      "text/html": [
       "<div>\n",
       "<style scoped>\n",
       "    .dataframe tbody tr th:only-of-type {\n",
       "        vertical-align: middle;\n",
       "    }\n",
       "\n",
       "    .dataframe tbody tr th {\n",
       "        vertical-align: top;\n",
       "    }\n",
       "\n",
       "    .dataframe thead th {\n",
       "        text-align: right;\n",
       "    }\n",
       "</style>\n",
       "<table border=\"1\" class=\"dataframe\">\n",
       "  <thead>\n",
       "    <tr style=\"text-align: right;\">\n",
       "      <th>stroke</th>\n",
       "      <th>0</th>\n",
       "      <th>1</th>\n",
       "    </tr>\n",
       "    <tr>\n",
       "      <th>gender</th>\n",
       "      <th></th>\n",
       "      <th></th>\n",
       "    </tr>\n",
       "  </thead>\n",
       "  <tbody>\n",
       "    <tr>\n",
       "      <th>Female</th>\n",
       "      <td>95.857784</td>\n",
       "      <td>4.142216</td>\n",
       "    </tr>\n",
       "    <tr>\n",
       "      <th>Male</th>\n",
       "      <td>95.574341</td>\n",
       "      <td>4.425659</td>\n",
       "    </tr>\n",
       "    <tr>\n",
       "      <th>Other</th>\n",
       "      <td>100.000000</td>\n",
       "      <td>0.000000</td>\n",
       "    </tr>\n",
       "  </tbody>\n",
       "</table>\n",
       "</div>"
      ],
      "text/plain": [
       "stroke           0         1\n",
       "gender                      \n",
       "Female   95.857784  4.142216\n",
       "Male     95.574341  4.425659\n",
       "Other   100.000000  0.000000"
      ]
     },
     "execution_count": 3,
     "metadata": {},
     "output_type": "execute_result"
    }
   ],
   "source": [
    "# Can we correlate the gender with the risk of stroke? → No.\n",
    "# P(stroke|gender)\n",
    "pd.crosstab(df['gender'], df['stroke'], normalize='index') * 100"
   ]
  },
  {
   "cell_type": "code",
   "execution_count": 4,
   "id": "aedb2d78-76d1-45a8-8494-169daf27d0b5",
   "metadata": {},
   "outputs": [
    {
     "data": {
      "text/html": [
       "<div>\n",
       "<style scoped>\n",
       "    .dataframe tbody tr th:only-of-type {\n",
       "        vertical-align: middle;\n",
       "    }\n",
       "\n",
       "    .dataframe tbody tr th {\n",
       "        vertical-align: top;\n",
       "    }\n",
       "\n",
       "    .dataframe thead th {\n",
       "        text-align: right;\n",
       "    }\n",
       "</style>\n",
       "<table border=\"1\" class=\"dataframe\">\n",
       "  <thead>\n",
       "    <tr style=\"text-align: right;\">\n",
       "      <th>stroke</th>\n",
       "      <th>0</th>\n",
       "      <th>1</th>\n",
       "    </tr>\n",
       "    <tr>\n",
       "      <th>hypertension</th>\n",
       "      <th></th>\n",
       "      <th></th>\n",
       "    </tr>\n",
       "  </thead>\n",
       "  <tbody>\n",
       "    <tr>\n",
       "      <th>0</th>\n",
       "      <td>96.657694</td>\n",
       "      <td>3.342306</td>\n",
       "    </tr>\n",
       "    <tr>\n",
       "      <th>1</th>\n",
       "      <td>86.696231</td>\n",
       "      <td>13.303769</td>\n",
       "    </tr>\n",
       "  </tbody>\n",
       "</table>\n",
       "</div>"
      ],
      "text/plain": [
       "stroke                0          1\n",
       "hypertension                      \n",
       "0             96.657694   3.342306\n",
       "1             86.696231  13.303769"
      ]
     },
     "execution_count": 4,
     "metadata": {},
     "output_type": "execute_result"
    }
   ],
   "source": [
    "# Is stroke more common among people with hypertension? → Yes.\n",
    "# P(Stroke|Hypertension)\n",
    "pd.crosstab(df['hypertension'], df['stroke'], normalize='index') * 100"
   ]
  },
  {
   "cell_type": "code",
   "execution_count": 5,
   "id": "d7d862ae-6072-4a95-863a-86524fd64113",
   "metadata": {},
   "outputs": [
    {
     "data": {
      "text/html": [
       "<div>\n",
       "<style scoped>\n",
       "    .dataframe tbody tr th:only-of-type {\n",
       "        vertical-align: middle;\n",
       "    }\n",
       "\n",
       "    .dataframe tbody tr th {\n",
       "        vertical-align: top;\n",
       "    }\n",
       "\n",
       "    .dataframe thead th {\n",
       "        text-align: right;\n",
       "    }\n",
       "</style>\n",
       "<table border=\"1\" class=\"dataframe\">\n",
       "  <thead>\n",
       "    <tr style=\"text-align: right;\">\n",
       "      <th>stroke</th>\n",
       "      <th>0</th>\n",
       "      <th>1</th>\n",
       "    </tr>\n",
       "    <tr>\n",
       "      <th>heart_disease</th>\n",
       "      <th></th>\n",
       "      <th></th>\n",
       "    </tr>\n",
       "  </thead>\n",
       "  <tbody>\n",
       "    <tr>\n",
       "      <th>0</th>\n",
       "      <td>96.378054</td>\n",
       "      <td>3.621946</td>\n",
       "    </tr>\n",
       "    <tr>\n",
       "      <th>1</th>\n",
       "      <td>83.539095</td>\n",
       "      <td>16.460905</td>\n",
       "    </tr>\n",
       "  </tbody>\n",
       "</table>\n",
       "</div>"
      ],
      "text/plain": [
       "stroke                 0          1\n",
       "heart_disease                      \n",
       "0              96.378054   3.621946\n",
       "1              83.539095  16.460905"
      ]
     },
     "execution_count": 5,
     "metadata": {},
     "output_type": "execute_result"
    }
   ],
   "source": [
    "# Is stroke more common among people with heart disease? → Yes.\n",
    "# P(Stroke|Heart Disease)\n",
    "pd.crosstab(df['heart_disease'], df['stroke'], normalize='index') * 100"
   ]
  },
  {
   "cell_type": "code",
   "execution_count": 6,
   "id": "cb54ae1c-ae23-4b23-9fb3-bcc5bd78fc31",
   "metadata": {},
   "outputs": [
    {
     "data": {
      "text/html": [
       "<div>\n",
       "<style scoped>\n",
       "    .dataframe tbody tr th:only-of-type {\n",
       "        vertical-align: middle;\n",
       "    }\n",
       "\n",
       "    .dataframe tbody tr th {\n",
       "        vertical-align: top;\n",
       "    }\n",
       "\n",
       "    .dataframe thead th {\n",
       "        text-align: right;\n",
       "    }\n",
       "</style>\n",
       "<table border=\"1\" class=\"dataframe\">\n",
       "  <thead>\n",
       "    <tr style=\"text-align: right;\">\n",
       "      <th>stroke</th>\n",
       "      <th>0</th>\n",
       "      <th>1</th>\n",
       "    </tr>\n",
       "    <tr>\n",
       "      <th>ever_married</th>\n",
       "      <th></th>\n",
       "      <th></th>\n",
       "    </tr>\n",
       "  </thead>\n",
       "  <tbody>\n",
       "    <tr>\n",
       "      <th>No</th>\n",
       "      <td>98.651026</td>\n",
       "      <td>1.348974</td>\n",
       "    </tr>\n",
       "    <tr>\n",
       "      <th>Yes</th>\n",
       "      <td>94.194757</td>\n",
       "      <td>5.805243</td>\n",
       "    </tr>\n",
       "  </tbody>\n",
       "</table>\n",
       "</div>"
      ],
      "text/plain": [
       "stroke                0         1\n",
       "ever_married                     \n",
       "No            98.651026  1.348974\n",
       "Yes           94.194757  5.805243"
      ]
     },
     "execution_count": 6,
     "metadata": {},
     "output_type": "execute_result"
    }
   ],
   "source": [
    "# Is stroke more common among people ever married? → Yes.\n",
    "pd.crosstab(df['ever_married'], df['stroke'], normalize='index') * 100"
   ]
  },
  {
   "cell_type": "code",
   "execution_count": 7,
   "id": "bb1c3e9a-732c-436d-9127-a9c368157282",
   "metadata": {},
   "outputs": [
    {
     "data": {
      "text/html": [
       "<div>\n",
       "<style scoped>\n",
       "    .dataframe tbody tr th:only-of-type {\n",
       "        vertical-align: middle;\n",
       "    }\n",
       "\n",
       "    .dataframe tbody tr th {\n",
       "        vertical-align: top;\n",
       "    }\n",
       "\n",
       "    .dataframe thead th {\n",
       "        text-align: right;\n",
       "    }\n",
       "</style>\n",
       "<table border=\"1\" class=\"dataframe\">\n",
       "  <thead>\n",
       "    <tr style=\"text-align: right;\">\n",
       "      <th>stroke</th>\n",
       "      <th>0</th>\n",
       "      <th>1</th>\n",
       "    </tr>\n",
       "    <tr>\n",
       "      <th>Residence_type</th>\n",
       "      <th></th>\n",
       "      <th></th>\n",
       "    </tr>\n",
       "  </thead>\n",
       "  <tbody>\n",
       "    <tr>\n",
       "      <th>Rural</th>\n",
       "      <td>95.86606</td>\n",
       "      <td>4.13394</td>\n",
       "    </tr>\n",
       "    <tr>\n",
       "      <th>Urban</th>\n",
       "      <td>95.62249</td>\n",
       "      <td>4.37751</td>\n",
       "    </tr>\n",
       "  </tbody>\n",
       "</table>\n",
       "</div>"
      ],
      "text/plain": [
       "stroke                 0        1\n",
       "Residence_type                   \n",
       "Rural           95.86606  4.13394\n",
       "Urban           95.62249  4.37751"
      ]
     },
     "execution_count": 7,
     "metadata": {},
     "output_type": "execute_result"
    }
   ],
   "source": [
    "# Can we correlate the residence type with the risk of stroke? → No.\n",
    "pd.crosstab(df['Residence_type'], df['stroke'], normalize='index') * 100"
   ]
  },
  {
   "cell_type": "code",
   "execution_count": 8,
   "id": "4aa15479-6638-4215-9d0b-e77e33d92a79",
   "metadata": {},
   "outputs": [
    {
     "data": {
      "text/html": [
       "<div>\n",
       "<style scoped>\n",
       "    .dataframe tbody tr th:only-of-type {\n",
       "        vertical-align: middle;\n",
       "    }\n",
       "\n",
       "    .dataframe tbody tr th {\n",
       "        vertical-align: top;\n",
       "    }\n",
       "\n",
       "    .dataframe thead th {\n",
       "        text-align: right;\n",
       "    }\n",
       "</style>\n",
       "<table border=\"1\" class=\"dataframe\">\n",
       "  <thead>\n",
       "    <tr style=\"text-align: right;\">\n",
       "      <th>stroke</th>\n",
       "      <th>0</th>\n",
       "      <th>1</th>\n",
       "    </tr>\n",
       "    <tr>\n",
       "      <th>smoking_status</th>\n",
       "      <th></th>\n",
       "      <th></th>\n",
       "    </tr>\n",
       "  </thead>\n",
       "  <tbody>\n",
       "    <tr>\n",
       "      <th>Unknown</th>\n",
       "      <td>98.044504</td>\n",
       "      <td>1.955496</td>\n",
       "    </tr>\n",
       "    <tr>\n",
       "      <th>formerly smoked</th>\n",
       "      <td>93.189964</td>\n",
       "      <td>6.810036</td>\n",
       "    </tr>\n",
       "    <tr>\n",
       "      <th>never smoked</th>\n",
       "      <td>95.464363</td>\n",
       "      <td>4.535637</td>\n",
       "    </tr>\n",
       "    <tr>\n",
       "      <th>smokes</th>\n",
       "      <td>94.708277</td>\n",
       "      <td>5.291723</td>\n",
       "    </tr>\n",
       "  </tbody>\n",
       "</table>\n",
       "</div>"
      ],
      "text/plain": [
       "stroke                   0         1\n",
       "smoking_status                      \n",
       "Unknown          98.044504  1.955496\n",
       "formerly smoked  93.189964  6.810036\n",
       "never smoked     95.464363  4.535637\n",
       "smokes           94.708277  5.291723"
      ]
     },
     "execution_count": 8,
     "metadata": {},
     "output_type": "execute_result"
    }
   ],
   "source": [
    "# Can we correlate the smoking status with the risk of stroke? → Kind of, but not for sure\n",
    "pd.crosstab(df['smoking_status'], df['stroke'], normalize='index') * 100"
   ]
  },
  {
   "cell_type": "code",
   "execution_count": 11,
   "id": "c0831cef-d2ab-40ad-8c50-c22a5c3ead3b",
   "metadata": {},
   "outputs": [
    {
     "data": {
      "image/png": "[encoded data removed]",
      "text/plain": [
       "<Figure size 432x288 with 1 Axes>"
      ]
     },
     "metadata": {
      "needs_background": "light"
     },
     "output_type": "display_data"
    },
    {
     "data": {
      "image/png": "[encoded data removed]",
      "text/plain": [
       "<Figure size 432x288 with 1 Axes>"
      ]
     },
     "metadata": {
      "needs_background": "light"
     },
     "output_type": "display_data"
    },
    {
     "data": {
      "image/png": "[encoded data removed]",
      "text/plain": [
       "<Figure size 432x288 with 1 Axes>"
      ]
     },
     "metadata": {
      "needs_background": "light"
     },
     "output_type": "display_data"
    }
   ],
   "source": [
    "import seaborn as sns\n",
    "import matplotlib.pyplot as plt\n",
    "# age and the average glucose level seem to relate to the stroke probability\n",
    "for col in ['age', 'bmi', 'avg_glucose_level']:\n",
    "    sns.kdeplot(data=df, x=col, hue='stroke', common_norm=False)\n",
    "    plt.title(f'{col} Distribution by Stroke')\n",
    "    plt.show()"
   ]
  },
  {
   "cell_type": "code",
   "execution_count": 12,
   "id": "a7081a39-38ac-45d1-86ae-234f577a6455",
   "metadata": {},
   "outputs": [
    {
     "data": {
      "image/png": "[encoded data removed]",
      "text/plain": [
       "<Figure size 432x288 with 1 Axes>"
      ]
     },
     "metadata": {
      "needs_background": "light"
     },
     "output_type": "display_data"
    },
    {
     "data": {
      "image/png": "[encoded data removed]",
      "text/plain": [
       "<Figure size 432x288 with 1 Axes>"
      ]
     },
     "metadata": {
      "needs_background": "light"
     },
     "output_type": "display_data"
    },
    {
     "data": {
      "image/png": "[encoded data removed]",
      "text/plain": [
       "<Figure size 432x288 with 1 Axes>"
      ]
     },
     "metadata": {
      "needs_background": "light"
     },
     "output_type": "display_data"
    }
   ],
   "source": [
    "import seaborn as sns\n",
    "import matplotlib.pyplot as plt\n",
    "\n",
    "for col in ['age', 'bmi', 'avg_glucose_level']:\n",
    "    sns.boxplot(x='stroke', y=col, data=df)\n",
    "    plt.title(f'{col} by Stroke')\n",
    "    plt.show()\n"
   ]
  },
  {
   "cell_type": "markdown",
   "id": "e92a610c-a137-4b6d-93c0-9f5960b00f5f",
   "metadata": {},
   "source": [
    "# Data Preprocessing"
   ]
  },
  {
   "cell_type": "markdown",
   "id": "83a00afc-79b8-4df0-a125-919171bf6541",
   "metadata": {},
   "source": [
    "## Step 1. Continuoius -> bin"
   ]
  },
  {
   "cell_type": "markdown",
   "id": "8b1674b4-1d20-4a86-a34c-fe4c91175f37",
   "metadata": {},
   "source": [
    "#### To feed this data into the Bayesian Network, continuous variables must be converted into categorical format. We identified age, BMI, and average glucose level are continuous variable. Therefore, we bin these variables into categorical variables by grouping them into categorical intervals."
   ]
  },
  {
   "cell_type": "markdown",
   "id": "b354ac32-01fb-4740-8f41-992c82cc91a8",
   "metadata": {},
   "source": [
    "## 1) Age"
   ]
  },
  {
   "cell_type": "code",
   "execution_count": 13,
   "id": "eb3fa206-3cfa-4921-b868-58cbda753e4d",
   "metadata": {},
   "outputs": [
    {
     "name": "stdout",
     "output_type": "stream",
     "text": [
      "min: 0.08 , max: 82.0\n"
     ]
    },
    {
     "data": {
      "image/png": "[encoded data removed]",
      "text/plain": [
       "<Figure size 432x288 with 1 Axes>"
      ]
     },
     "metadata": {
      "needs_background": "light"
     },
     "output_type": "display_data"
    }
   ],
   "source": [
    "import matplotlib.pyplot as plt\n",
    "print('min:', df['age'].min(), \",\", 'max:', df['age'].max())\n",
    "\n",
    "# boxplot\n",
    "plt.boxplot(df['age'], vert=False, labels=['Age'])\n",
    "plt.title('Boxplot with Matplotlib')\n",
    "plt.ylabel('Value')\n",
    "plt.show()"
   ]
  },
  {
   "cell_type": "code",
   "execution_count": 14,
   "id": "7496fb7d-8c14-4d02-813c-1d6d74df0ee7",
   "metadata": {},
   "outputs": [],
   "source": [
    "# age into three parts\n",
    "age_bins = [0, 50, 65, 90] \n",
    "age_labels = ['Young', 'Middle-aged', 'Old']\n",
    "df['age_group'] = pd.cut(df['age'], bins=age_bins, labels=age_labels, right=False)"
   ]
  },
  {
   "cell_type": "markdown",
   "id": "71329013-e423-4a62-a3c5-c908b0399e0e",
   "metadata": {},
   "source": [
    "## 2) avg glucose level"
   ]
  },
  {
   "cell_type": "code",
   "execution_count": 15,
   "id": "7bc662c0-7395-4ca9-bf15-bfd1164d24bd",
   "metadata": {},
   "outputs": [
    {
     "name": "stdout",
     "output_type": "stream",
     "text": [
      "min: 55.12 , max: 271.74\n"
     ]
    },
    {
     "data": {
      "image/png": "[encoded data removed]",
      "text/plain": [
       "<Figure size 432x288 with 1 Axes>"
      ]
     },
     "metadata": {
      "needs_background": "light"
     },
     "output_type": "display_data"
    }
   ],
   "source": [
    "import matplotlib.pyplot as plt\n",
    "print('min:', df['avg_glucose_level'].min(), \",\", 'max:', df['avg_glucose_level'].max())\n",
    "\n",
    "plt.boxplot(df['avg_glucose_level'], vert=False, labels=['average glucose level'])\n",
    "plt.title('Average Glucose Level')\n",
    "plt.ylabel('Value')\n",
    "plt.show()"
   ]
  },
  {
   "cell_type": "code",
   "execution_count": 16,
   "id": "1b4e2c0c-f4a5-414a-b894-da8a8c56a090",
   "metadata": {},
   "outputs": [],
   "source": [
    "# avg_glucose_level bin\n",
    "glucose_bins = [0, 130, 200, df['avg_glucose_level'].max()+0.1]\n",
    "glucose_labels = ['Low', 'Normal', 'High']\n",
    "df['glucose_level_group'] = pd.cut(df['avg_glucose_level'], bins=glucose_bins, labels=glucose_labels, right=False)"
   ]
  },
  {
   "cell_type": "markdown",
   "id": "9c8c7fce-84ea-478b-a220-9cce7f2d4524",
   "metadata": {},
   "source": [
    "## 3) bmi"
   ]
  },
  {
   "cell_type": "code",
   "execution_count": 17,
   "id": "ad74884c-7759-4669-ac15-0b8177899276",
   "metadata": {},
   "outputs": [
    {
     "name": "stdout",
     "output_type": "stream",
     "text": [
      "min: 10.3 , max: 97.6\n"
     ]
    },
    {
     "data": {
      "image/png": "[encoded data removed]",
      "text/plain": [
       "<Figure size 432x288 with 1 Axes>"
      ]
     },
     "metadata": {
      "needs_background": "light"
     },
     "output_type": "display_data"
    }
   ],
   "source": [
    "import matplotlib.pyplot as plt\n",
    "print('min:', df['bmi'].min(), \",\", 'max:', df['bmi'].max())\n",
    "\n",
    "plt.boxplot(df['bmi'], vert=False, labels=['BMI'])\n",
    "plt.title('BMI level')\n",
    "plt.ylabel('Value')\n",
    "plt.show()"
   ]
  },
  {
   "cell_type": "code",
   "execution_count": 18,
   "id": "91143589-2afc-4cbd-a6f6-70495079cd29",
   "metadata": {},
   "outputs": [],
   "source": [
    "# bmi level binning\n",
    "bmi_bins = [0, 18.5, 25, 30, df['bmi'].max()]\n",
    "bmi_labels = ['Underweight', 'Normal', 'Overweight', 'Obese']\n",
    "df['bmi_group'] = pd.cut(df['bmi'], bins=bmi_bins, labels=bmi_labels, right=False)"
   ]
  },
  {
   "cell_type": "markdown",
   "id": "8f60bfb0-fb82-4012-be72-7893ffab621b",
   "metadata": {},
   "source": [
    "# Categorical variables (with low frequency)"
   ]
  },
  {
   "cell_type": "markdown",
   "id": "ef6e389b-ef1d-4564-b6e2-a3c051168020",
   "metadata": {},
   "source": [
    "#### For analyitcal conveniency, we handle values with very low frequency by either removing them or merging them with the nearest appropriate category."
   ]
  },
  {
   "cell_type": "code",
   "execution_count": 19,
   "id": "b8832c5d-3f51-495c-a9ea-4651bd7fa689",
   "metadata": {},
   "outputs": [
    {
     "data": {
      "text/plain": [
       "gender\n",
       "Female    2897\n",
       "Male      2011\n",
       "Other        1\n",
       "Name: count, dtype: int64"
      ]
     },
     "execution_count": 19,
     "metadata": {},
     "output_type": "execute_result"
    }
   ],
   "source": [
    "df['gender'].value_counts()"
   ]
  },
  {
   "cell_type": "code",
   "execution_count": 20,
   "id": "042f6a8d-25a9-4b1b-a768-fe9d157a29a4",
   "metadata": {},
   "outputs": [],
   "source": [
    "df = df[df['gender'] != 'Other']"
   ]
  },
  {
   "cell_type": "code",
   "execution_count": 21,
   "id": "1cea33fc-1583-45f6-abc0-7a44772053e2",
   "metadata": {},
   "outputs": [
    {
     "data": {
      "text/plain": [
       "smoking_status\n",
       "never smoked       1852\n",
       "formerly smoked     836\n",
       "smokes              737\n",
       "Name: count, dtype: int64"
      ]
     },
     "execution_count": 21,
     "metadata": {},
     "output_type": "execute_result"
    }
   ],
   "source": [
    "df = df[df['smoking_status'] != 'Unknown']\n",
    "df['smoking_status'].value_counts()"
   ]
  },
  {
   "cell_type": "code",
   "execution_count": 22,
   "id": "79a4fe64-4a3b-4387-be2c-82039b22e7fc",
   "metadata": {},
   "outputs": [],
   "source": [
    "df.reset_index(drop=True, inplace=True)"
   ]
  },
  {
   "cell_type": "markdown",
   "id": "ca4c0852-775d-4c2b-a69d-705d8e6c3e21",
   "metadata": {},
   "source": [
    "## simplify fragmented categories"
   ]
  },
  {
   "cell_type": "markdown",
   "id": "57359827-652d-40f7-bfaa-e65b58cc7393",
   "metadata": {},
   "source": [
    "#### For ease of interpretation, we binned the Job variable into fewer categories based on the whether the individual has a job or not, focusing on its potential relevance to stroke."
   ]
  },
  {
   "cell_type": "code",
   "execution_count": 23,
   "id": "aef0d466-158d-40db-8501-d77f896dadc0",
   "metadata": {},
   "outputs": [
    {
     "data": {
      "text/plain": [
       "work_type\n",
       "Private          2200\n",
       "Self-employed     629\n",
       "Govt_job          514\n",
       "children           68\n",
       "Never_worked       14\n",
       "Name: count, dtype: int64"
      ]
     },
     "execution_count": 23,
     "metadata": {},
     "output_type": "execute_result"
    }
   ],
   "source": [
    "df['work_type'].value_counts()"
   ]
  },
  {
   "cell_type": "code",
   "execution_count": 24,
   "id": "1fd4d5e7-2c82-4d3a-96dc-ba1c62f8aff2",
   "metadata": {},
   "outputs": [],
   "source": [
    "df['work_type'] = df['work_type'].replace( {'Private': 'Work', 'Self-employed':'Work', 'Govt_job': 'Work', 'children':'Never_worked'})"
   ]
  },
  {
   "cell_type": "code",
   "execution_count": 25,
   "id": "b101ad10-c0b8-408d-a1a3-0812166a65fc",
   "metadata": {},
   "outputs": [
    {
     "data": {
      "text/plain": [
       "work_type\n",
       "Work            3343\n",
       "Never_worked      82\n",
       "Name: count, dtype: int64"
      ]
     },
     "execution_count": 25,
     "metadata": {},
     "output_type": "execute_result"
    }
   ],
   "source": [
    "df['work_type'].value_counts()"
   ]
  },
  {
   "cell_type": "markdown",
   "id": "160ca92a-8d71-435b-b990-ec2e5ddac7f7",
   "metadata": {},
   "source": [
    "# Binary into Categorical"
   ]
  },
  {
   "cell_type": "markdown",
   "id": "1bf58ba1-08d9-4e6a-a532-ebfc5f45a116",
   "metadata": {},
   "source": [
    "#### For ease of interpretation, we transform binary values into \"Yes\" and \"No\" categories. This makes the bayesian net easier to read and understand."
   ]
  },
  {
   "cell_type": "code",
   "execution_count": 26,
   "id": "7116ae04-bb84-49b3-a9bc-4a52bf2b9b47",
   "metadata": {},
   "outputs": [],
   "source": [
    "binary_cols = ['hypertension', 'heart_disease', 'stroke']\n",
    "\n",
    "for col in binary_cols:\n",
    "    df[col] = df[col].replace({0: f'{col}_No', 1: f'{col}_Yes'})"
   ]
  },
  {
   "cell_type": "code",
   "execution_count": 27,
   "id": "0a6534b4-9117-4496-b002-b57c9228b714",
   "metadata": {},
   "outputs": [],
   "source": [
    "features = ['gender', 'age_group', 'hypertension', 'heart_disease', \n",
    "            'ever_married', 'work_type', 'Residence_type', 'smoking_status', 'stroke',  'glucose_level_group', 'bmi_group']"
   ]
  },
  {
   "cell_type": "code",
   "execution_count": 29,
   "id": "7f955f8c-092c-4c21-b290-9a1dbea62756",
   "metadata": {},
   "outputs": [],
   "source": [
    "df[features].to_csv('data_processed-v3.csv', index=False)"
   ]
  },
  {
   "cell_type": "code",
   "execution_count": null,
   "id": "06cd79ba-362f-43f3-9487-1e18561a27f7",
   "metadata": {},
   "outputs": [],
   "source": []
  },
  {
   "cell_type": "code",
   "execution_count": null,
   "id": "7ec07a5a-de9d-4815-a9c6-9c33bae436aa",
   "metadata": {},
   "outputs": [],
   "source": []
  }
 ],
 "metadata": {
  "kernelspec": {
   "display_name": "Python 3 (ipykernel)",
   "language": "python",
   "name": "python3"
  },
  "language_info": {
   "codemirror_mode": {
    "name": "ipython",
    "version": 3
   },
   "file_extension": ".py",
   "mimetype": "text/x-python",
   "name": "python",
   "nbconvert_exporter": "python",
   "pygments_lexer": "ipython3",
   "version": "3.9.7"
  }
 },
 "nbformat": 4,
 "nbformat_minor": 5
}
